{
 "cells": [
  {
   "cell_type": "markdown",
   "id": "4f0d53bd",
   "metadata": {},
   "source": [
    "给定一个字符串 s，它包含小写字母和数字字符，请编写一个函数，将字符串中的字母字符保持不变，而将每个数字字符替换为number。\n",
    "\n",
    "例如，对于输入字符串 \"a1b2c3\"，函数应该将其转换为 \"anumberbnumbercnumber\"。\n",
    "\n",
    "对于输入字符串 \"a5b\"，函数应该将其转换为 \"anumberb\"\n",
    "\n",
    "输入：一个字符串 s,s 仅包含小写字母和数字字符。\n",
    "\n",
    "输出：打印一个新的字符串，其中每个数字字符都被替换为了number\n",
    "\n",
    "样例输入：a1b2c3\n",
    "\n",
    "样例输出：anumberbnumbercnumber\n",
    "\n",
    "数据范围：1 <= s.length < 10000。"
   ]
  },
  {
   "cell_type": "code",
   "execution_count": 2,
   "id": "b17e82c7",
   "metadata": {},
   "outputs": [
    {
     "name": "stdout",
     "output_type": "stream",
     "text": [
      "2\n",
      "anumberbnumberc\n"
     ]
    }
   ],
   "source": [
    "# 其实很多数组填充类的问题，其做法都是先预先给数组扩容带填充后的大小，然后在从后向前进行操作。\n",
    "class Solution(object):\n",
    "    def subsitute_numbers(self, s):\n",
    "        nums = [str(x) for x in range(10)]\n",
    "        count = 0\n",
    "        for i in s:\n",
    "            if i in nums:\n",
    "                count += 1\n",
    "        print(count)\n",
    "\n",
    "        # python必须新开空间\n",
    "        lenth = len(s) + count*5\n",
    "        expand = ['' for i in range(lenth)] \n",
    "        j =  len(s) - 1 # 原来字符串中的指针\n",
    "        i = lenth - 1 # 扩充字符串的指针\n",
    "\n",
    "        while j >= 0:\n",
    "            if s[j] in nums:\n",
    "                expand[i-5:i+1] = 'number'\n",
    "                i -= 6\n",
    "            else:\n",
    "                expand[i] = s[j]\n",
    "                i -= 1\n",
    "            j -= 1\n",
    "\n",
    "        return ''.join(expand)\n",
    "  \n",
    "s = 'a2b3c'\n",
    "soln = Solution()\n",
    "print(soln.subsitute_numbers(s))\n",
    "\n"
   ]
  }
 ],
 "metadata": {
  "kernelspec": {
   "display_name": "base",
   "language": "python",
   "name": "python3"
  },
  "language_info": {
   "codemirror_mode": {
    "name": "ipython",
    "version": 3
   },
   "file_extension": ".py",
   "mimetype": "text/x-python",
   "name": "python",
   "nbconvert_exporter": "python",
   "pygments_lexer": "ipython3",
   "version": "3.12.3"
  }
 },
 "nbformat": 4,
 "nbformat_minor": 5
}
